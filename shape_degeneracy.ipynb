{
 "cells": [
  {
   "cell_type": "code",
   "execution_count": null,
   "id": "f4c7e631-ef9e-47c2-bb44-0d90ee982cc7",
   "metadata": {},
   "outputs": [],
   "source": [
    "import pickle\n",
    "import numpy as np\n",
    "import matplotlib.pyplot as plt\n",
    "from lsst.ts.wep.utils import forwardModelPair"
   ]
  },
  {
   "cell_type": "code",
   "execution_count": null,
   "id": "ee47898d-ca19-4642-abb8-172893926ba8",
   "metadata": {},
   "outputs": [],
   "source": [
    "# Load Zernike estimates from simulation\n",
    "with open(\"sims/dense_zk_estimates_shape.pkl\", \"rb\") as file:\n",
    "    data = pickle.load(file)\n",
    "\n",
    "# Compute residuals of absolute values\n",
    "ra = np.abs(data[\"est\"]) - np.abs(data[\"true\"])\n",
    "\n",
    "# Let's pick one with a large defocus error\n",
    "idx = np.abs(ra[:, 0] - 1).argmin()\n",
    "\n",
    "# Simulate pairs for the true and estimated Zernikes\n",
    "_, intra0, extra0 = forwardModelPair(zkCoeff=data[\"true\"][idx] / 1e6, seeing=0.5, skyLevel=0)\n",
    "_, intra1, extra1 = forwardModelPair(zkCoeff=data[\"est\"][idx] / 1e6, seeing=0.5, skyLevel=0)"
   ]
  },
  {
   "cell_type": "code",
   "execution_count": null,
   "id": "fb416f6d-817e-4763-bcf8-f7f8e31ad947",
   "metadata": {},
   "outputs": [],
   "source": [
    "# Plot the intrafocal donuts\n",
    "fig, (ax1, ax2) = plt.subplots(1, 2, figsize=(3.5, 1.6), dpi=150)\n",
    "\n",
    "ax1.imshow(intra0.image, origin=\"lower\")\n",
    "ax2.imshow(intra1.image, origin=\"lower\")\n",
    "\n",
    "ax1.set(xticks=[], yticks=[], title=\"True donut\")\n",
    "ax2.set(xticks=[], yticks=[], title=\"Fit by shape\")\n",
    "\n",
    "fig.savefig(\"figures/shape_degeneracy.pdf\", bbox_inches=\"tight\")"
   ]
  },
  {
   "cell_type": "code",
   "execution_count": null,
   "id": "0552ba02-252d-4264-b5e2-892b942437f5",
   "metadata": {},
   "outputs": [],
   "source": []
  }
 ],
 "metadata": {
  "kernelspec": {
   "display_name": "LSST",
   "language": "python",
   "name": "lsst"
  },
  "language_info": {
   "codemirror_mode": {
    "name": "ipython",
    "version": 3
   },
   "file_extension": ".py",
   "mimetype": "text/x-python",
   "name": "python",
   "nbconvert_exporter": "python",
   "pygments_lexer": "ipython3",
   "version": "3.11.9"
  }
 },
 "nbformat": 4,
 "nbformat_minor": 5
}
