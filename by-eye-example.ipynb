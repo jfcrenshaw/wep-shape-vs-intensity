{
 "cells": [
  {
   "cell_type": "code",
   "execution_count": null,
   "id": "0cd5bc7d-b8b6-46fe-a2fc-504812f51250",
   "metadata": {},
   "outputs": [],
   "source": [
    "import numpy as np\n",
    "import matplotlib.pyplot as plt\n",
    "from lsst.ts.wep.utils import forwardModelPair"
   ]
  },
  {
   "cell_type": "code",
   "execution_count": null,
   "id": "bb68c5db-2244-4df7-bc11-982ced9682f9",
   "metadata": {},
   "outputs": [],
   "source": [
    "# Set example Zernikes\n",
    "zk = np.arange(4, 23).astype(float) * 0\n",
    "zk[4 - 4] = 3e-6  # positive defocus\n",
    "zk[5 - 4] = -2e-6  # negative astig\n",
    "zk[7 - 4] = 2e-6  # positive coma\n",
    "zk[11 - 4] = -0.22e-6  # negative spherical\n",
    "zk[17 - 4] = -0.1e-6  # negative 2nd coma"
   ]
  },
  {
   "cell_type": "code",
   "execution_count": null,
   "id": "c96a972e-4c35-4ada-a421-a3f7cb1aaa2c",
   "metadata": {},
   "outputs": [],
   "source": [
    "# Model only shapes\n",
    "_, intra0, extra0 = forwardModelPair(zkCoeff=zk, fieldAngleIntra=(0, 0), seeing=0.5, skyLevel=0, flat=True, nPix=200)\n",
    "\n",
    "# Model with surface brightness fluctuations\n",
    "_, intra1, extra1 = forwardModelPair(zkCoeff=zk, fieldAngleIntra=(0, 0), seeing=0.5, skyLevel=0, flat=False, nPix=200)"
   ]
  },
  {
   "cell_type": "code",
   "execution_count": null,
   "id": "fc3e4af2-66ef-4d08-83c5-1c03ee7c7ff4",
   "metadata": {},
   "outputs": [],
   "source": [
    "fig, axes = plt.subplots(2, 2, figsize=(3.5, 3.7), constrained_layout=True, dpi=150)\n",
    "\n",
    "axes[0, 0].imshow(intra0.image[:-30, 15:-15], origin=\"lower\")\n",
    "axes[0, 1].imshow(extra0.image[:-30, 15:-15], origin=\"lower\")\n",
    "axes[1, 0].imshow(intra1.image[:-30, 15:-15], origin=\"lower\")\n",
    "axes[1, 1].imshow(extra1.image[:-30, 15:-15], origin=\"lower\")\n",
    "\n",
    "for ax in axes.flatten():\n",
    "    ax.set(xticks=[], yticks=[])\n",
    "axes[0, 0].set_title(\"Intrafocal\")\n",
    "axes[0, 1].set_title(\"Extrafocal\")\n",
    "\n",
    "fig.savefig(\"figures/by-eye-example.pdf\")"
   ]
  },
  {
   "cell_type": "code",
   "execution_count": null,
   "id": "b42a146a-f586-429e-b479-91286fd5f0b4",
   "metadata": {},
   "outputs": [],
   "source": []
  }
 ],
 "metadata": {
  "kernelspec": {
   "display_name": "LSST",
   "language": "python",
   "name": "lsst"
  },
  "language_info": {
   "codemirror_mode": {
    "name": "ipython",
    "version": 3
   },
   "file_extension": ".py",
   "mimetype": "text/x-python",
   "name": "python",
   "nbconvert_exporter": "python",
   "pygments_lexer": "ipython3",
   "version": "3.11.9"
  }
 },
 "nbformat": 4,
 "nbformat_minor": 5
}
